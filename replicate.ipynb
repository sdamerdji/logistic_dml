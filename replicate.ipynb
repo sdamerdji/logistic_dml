{
 "cells": [
  {
   "cell_type": "markdown",
   "id": "6dc120a1-b7a5-44ab-b759-257147bc9354",
   "metadata": {},
   "source": []
  },
  {
   "cell_type": "code",
   "execution_count": null,
   "id": "8ed42050-d045-4609-ba1a-27e42bf69f37",
   "metadata": {},
   "outputs": [],
   "source": []
  },
  {
   "cell_type": "code",
   "execution_count": 1,
   "id": "8016f267",
   "metadata": {
    "scrolled": true
   },
   "outputs": [],
   "source": [
    "import numpy as np\n",
    "import pandas as pd\n",
    "from logistic_dml import DML\n",
    "from sklearn.ensemble import GradientBoostingRegressor, GradientBoostingClassifier,RandomForestClassifier\n",
    "from imblearn.under_sampling import RandomUnderSampler\n",
    "from sklearn.svm import SVR,SVC\n",
    "from sklearn.linear_model import LogisticRegression, LinearRegression\n",
    "from imblearn.pipeline import Pipeline, make_pipeline\n",
    "from sklearn.ensemble import RandomForestClassifier, RandomForestRegressor\n",
    "from sklearn.feature_selection import SelectKBest, f_classif, VarianceThreshold, f_regression\n",
    "from sklearn.preprocessing import MinMaxScaler, StandardScaler, QuantileTransformer\n",
    "from sklearn.preprocessing import LabelBinarizer\n",
    "from sklearn.preprocessing import PolynomialFeatures, SplineTransformer, PowerTransformer\n",
    "from tensorflow.keras.models import Sequential\n",
    "from tensorflow.keras.layers import Dropout\n",
    "from tensorflow import keras \n",
    "from scipy import stats\n",
    "from sklearn.linear_model import SGDClassifier, SGDRegressor\n",
    "from sklearn.model_selection import GridSearchCV"
   ]
  },
  {
   "cell_type": "code",
   "execution_count": 2,
   "id": "bab2e56d",
   "metadata": {},
   "outputs": [],
   "source": [
    "df = pd.read_csv( '../../Dataset2_BirthAge20-34_subset10000.csv', low_memory=False)"
   ]
  },
  {
   "cell_type": "code",
   "execution_count": 3,
   "id": "47f9967c-ed59-4ac1-9c98-9a7195ca0d65",
   "metadata": {},
   "outputs": [
    {
     "data": {
      "text/plain": [
       "(5947, 23)"
      ]
     },
     "execution_count": 3,
     "metadata": {},
     "output_type": "execute_result"
    }
   ],
   "source": [
    "df[df.birth==0].shape"
   ]
  },
  {
   "cell_type": "code",
   "execution_count": 4,
   "id": "6b8e49f3",
   "metadata": {},
   "outputs": [],
   "source": [
    "train =df.drop(['Unnamed: 0'],axis=1)"
   ]
  },
  {
   "cell_type": "code",
   "execution_count": 5,
   "id": "a692e1f6",
   "metadata": {},
   "outputs": [],
   "source": [
    "Y = train['birth']\n",
    "A = train['pill']\n",
    "X = train.drop(['pill','birth'], axis=1)\n",
    "K=5"
   ]
  },
  {
   "cell_type": "code",
   "execution_count": null,
   "id": "60493e2d-c79d-49f6-af1e-444e9a1d44f8",
   "metadata": {},
   "outputs": [],
   "source": []
  },
  {
   "cell_type": "code",
   "execution_count": 45,
   "id": "ebabfda4-2020-447d-9555-abc2a1684f55",
   "metadata": {},
   "outputs": [
    {
     "name": "stdout",
     "output_type": "stream",
     "text": [
      "Getting predictions for fold k = 1\n",
      "Predicting M_hat\n",
      "Getting predictions for subfold j = 1\n",
      "Predicting M_hat\n",
      "Predicting a_hat\n",
      "Getting predictions for subfold j = 2\n",
      "Predicting M_hat\n",
      "Predicting a_hat\n",
      "Getting predictions for subfold j = 3\n",
      "Predicting M_hat\n",
      "Predicting a_hat\n",
      "Getting predictions for subfold j = 4\n",
      "Predicting M_hat\n",
      "Predicting a_hat\n",
      "Getting predictions for subfold j = 5\n",
      "Predicting M_hat\n",
      "Predicting a_hat\n",
      "Predicting t_hat\n",
      "Getting predictions for fold k = 2\n",
      "Predicting M_hat\n",
      "Getting predictions for subfold j = 1\n",
      "Predicting M_hat\n",
      "Predicting a_hat\n",
      "Getting predictions for subfold j = 2\n",
      "Predicting M_hat\n",
      "Predicting a_hat\n",
      "Getting predictions for subfold j = 3\n",
      "Predicting M_hat\n",
      "Predicting a_hat\n",
      "Getting predictions for subfold j = 4\n",
      "Predicting M_hat\n",
      "Predicting a_hat\n",
      "Getting predictions for subfold j = 5\n",
      "Predicting M_hat\n",
      "Predicting a_hat\n",
      "Predicting t_hat\n",
      "Getting predictions for fold k = 3\n",
      "Predicting M_hat\n",
      "Getting predictions for subfold j = 1\n",
      "Predicting M_hat\n",
      "Predicting a_hat\n",
      "Getting predictions for subfold j = 2\n",
      "Predicting M_hat\n",
      "Predicting a_hat\n",
      "Getting predictions for subfold j = 3\n",
      "Predicting M_hat\n",
      "Predicting a_hat\n",
      "Getting predictions for subfold j = 4\n",
      "Predicting M_hat\n",
      "Predicting a_hat\n",
      "Getting predictions for subfold j = 5\n",
      "Predicting M_hat\n",
      "Predicting a_hat\n",
      "Predicting t_hat\n",
      "Getting predictions for fold k = 4\n",
      "Predicting M_hat\n",
      "Getting predictions for subfold j = 1\n",
      "Predicting M_hat\n",
      "Predicting a_hat\n",
      "Getting predictions for subfold j = 2\n",
      "Predicting M_hat\n",
      "Predicting a_hat\n",
      "Getting predictions for subfold j = 3\n",
      "Predicting M_hat\n",
      "Predicting a_hat\n",
      "Getting predictions for subfold j = 4\n",
      "Predicting M_hat\n",
      "Predicting a_hat\n",
      "Getting predictions for subfold j = 5\n",
      "Predicting M_hat\n",
      "Predicting a_hat\n",
      "Predicting t_hat\n",
      "Getting predictions for fold k = 5\n",
      "Predicting M_hat\n",
      "Getting predictions for subfold j = 1\n",
      "Predicting M_hat\n",
      "Predicting a_hat\n",
      "Getting predictions for subfold j = 2\n",
      "Predicting M_hat\n",
      "Predicting a_hat\n",
      "Getting predictions for subfold j = 3\n",
      "Predicting M_hat\n",
      "Predicting a_hat\n",
      "Getting predictions for subfold j = 4\n",
      "Predicting M_hat\n",
      "Predicting a_hat\n",
      "Getting predictions for subfold j = 5\n",
      "Predicting M_hat\n",
      "Predicting a_hat\n",
      "Predicting t_hat\n",
      "Root finding using root_scalar failed: f(a) and f(b) must have different signs\n",
      "Root finding using root_scalar failed: f(a) and f(b) must have different signs\n",
      "Root finding using root_scalar failed: f(a) and f(b) must have different signs\n",
      "Root finding using root_scalar failed: f(a) and f(b) must have different signs\n",
      "beta hat -0.14690754222563904\n",
      "p value 0.735\n",
      "ci (-0.1738331443363011, -0.11998194011497698)\n",
      "lb -0.8116939735563267\n",
      "ub 1.2819271442523097\n"
     ]
    }
   ],
   "source": [
    "result_gb = DML(\n",
    "        Y=Y,\n",
    "        A=A,\n",
    "        X=X,classifier=GradientBoostingClassifier(), regressor=GradientBoostingRegressor(),random_seed=0, k_folds=K,\n",
    "    # M_hat_classifier=GradientBoostingClassifier(),\n",
    "    #          a_hat_classifier=GradientBoostingClassifier()\n",
    ")      \n",
    "\n",
    "\n",
    "result_gb.train()\n",
    "lb_gb, ub_gb, mean_gb, sd_gb = result_gb.significance_testing()\n",
    "\n",
    "print('beta hat', result_gb.beta_hat)\n",
    "print('p value', result_gb.p_value)\n",
    "print('ci', result_gb.ci)\n",
    "print('lb', lb_gb)\n",
    "print('ub', ub_gb)"
   ]
  },
  {
   "cell_type": "code",
   "execution_count": 23,
   "id": "4c966649-6dbf-42da-8774-d42ddeb1409c",
   "metadata": {},
   "outputs": [
    {
     "data": {
      "text/plain": [
       "{'learning_rate': 0.1,\n",
       " 'max_depth': 3,\n",
       " 'min_samples_leaf': 2,\n",
       " 'min_samples_split': 10,\n",
       " 'subsample': 1.0}"
      ]
     },
     "execution_count": 23,
     "metadata": {},
     "output_type": "execute_result"
    }
   ],
   "source": [
    "gbc.best_params_"
   ]
  },
  {
   "cell_type": "code",
   "execution_count": 24,
   "id": "4a5cf019-623e-4e98-a810-71fef14da351",
   "metadata": {},
   "outputs": [
    {
     "data": {
      "text/plain": [
       "{'max_depth': 25, 'min_samples_leaf': 0.01}"
      ]
     },
     "execution_count": 24,
     "metadata": {},
     "output_type": "execute_result"
    }
   ],
   "source": [
    "gbr.best_params_\n"
   ]
  },
  {
   "cell_type": "code",
   "execution_count": 54,
   "id": "b1615c7e-1906-4224-8fb1-13d1f6ccb302",
   "metadata": {},
   "outputs": [],
   "source": [
    "rfc_params = {'max_depth': 10,\n",
    " 'max_features': 'log2',\n",
    " 'min_samples_leaf': 4,\n",
    " 'min_samples_split': 10,\n",
    " 'n_estimators': 100}\n",
    "\n"
   ]
  },
  {
   "cell_type": "code",
   "execution_count": 57,
   "id": "041f086e-c56e-41f2-97a5-f510f3aff52a",
   "metadata": {},
   "outputs": [],
   "source": [
    "rfr_params ={'max_depth': 10,\n",
    " 'max_features': 'sqrt',\n",
    " 'min_samples_leaf': 4,\n",
    " 'min_samples_split': 10,\n",
    " 'n_estimators': 200}"
   ]
  },
  {
   "cell_type": "code",
   "execution_count": 59,
   "id": "3526ee8b-facb-494e-95c5-9991b4b39853",
   "metadata": {},
   "outputs": [
    {
     "name": "stdout",
     "output_type": "stream",
     "text": [
      "Getting predictions for fold k = 1\n",
      "Predicting M_hat\n",
      "Getting predictions for subfold j = 1\n",
      "Predicting M_hat\n",
      "Predicting a_hat\n",
      "Getting predictions for subfold j = 2\n",
      "Predicting M_hat\n",
      "Predicting a_hat\n",
      "Getting predictions for subfold j = 3\n",
      "Predicting M_hat\n",
      "Predicting a_hat\n",
      "Getting predictions for subfold j = 4\n",
      "Predicting M_hat\n",
      "Predicting a_hat\n",
      "Getting predictions for subfold j = 5\n",
      "Predicting M_hat\n",
      "Predicting a_hat\n",
      "Predicting t_hat\n",
      "Getting predictions for fold k = 2\n",
      "Predicting M_hat\n",
      "Getting predictions for subfold j = 1\n",
      "Predicting M_hat\n",
      "Predicting a_hat\n",
      "Getting predictions for subfold j = 2\n",
      "Predicting M_hat\n",
      "Predicting a_hat\n",
      "Getting predictions for subfold j = 3\n",
      "Predicting M_hat\n",
      "Predicting a_hat\n",
      "Getting predictions for subfold j = 4\n",
      "Predicting M_hat\n",
      "Predicting a_hat\n",
      "Getting predictions for subfold j = 5\n",
      "Predicting M_hat\n",
      "Predicting a_hat\n",
      "Predicting t_hat\n",
      "Getting predictions for fold k = 3\n",
      "Predicting M_hat\n",
      "Getting predictions for subfold j = 1\n",
      "Predicting M_hat\n",
      "Predicting a_hat\n",
      "Getting predictions for subfold j = 2\n",
      "Predicting M_hat\n",
      "Predicting a_hat\n",
      "Getting predictions for subfold j = 3\n",
      "Predicting M_hat\n",
      "Predicting a_hat\n",
      "Getting predictions for subfold j = 4\n",
      "Predicting M_hat\n",
      "Predicting a_hat\n",
      "Getting predictions for subfold j = 5\n",
      "Predicting M_hat\n",
      "Predicting a_hat\n",
      "Predicting t_hat\n",
      "Getting predictions for fold k = 4\n",
      "Predicting M_hat\n",
      "Getting predictions for subfold j = 1\n",
      "Predicting M_hat\n",
      "Predicting a_hat\n",
      "Getting predictions for subfold j = 2\n",
      "Predicting M_hat\n",
      "Predicting a_hat\n",
      "Getting predictions for subfold j = 3\n",
      "Predicting M_hat\n",
      "Predicting a_hat\n",
      "Getting predictions for subfold j = 4\n",
      "Predicting M_hat\n",
      "Predicting a_hat\n",
      "Getting predictions for subfold j = 5\n",
      "Predicting M_hat\n",
      "Predicting a_hat\n",
      "Predicting t_hat\n",
      "Getting predictions for fold k = 5\n",
      "Predicting M_hat\n",
      "Getting predictions for subfold j = 1\n",
      "Predicting M_hat\n",
      "Predicting a_hat\n",
      "Getting predictions for subfold j = 2\n",
      "Predicting M_hat\n",
      "Predicting a_hat\n",
      "Getting predictions for subfold j = 3\n",
      "Predicting M_hat\n",
      "Predicting a_hat\n",
      "Getting predictions for subfold j = 4\n",
      "Predicting M_hat\n",
      "Predicting a_hat\n",
      "Getting predictions for subfold j = 5\n",
      "Predicting M_hat\n",
      "Predicting a_hat\n",
      "Predicting t_hat\n",
      "beta hat -0.18234373458338932\n",
      "p value 0.095\n",
      "ci (-0.18769812149842854, -0.1769893476683501)\n",
      "lb -0.3563920366450555\n",
      "ub 0.02784762274647241\n"
     ]
    }
   ],
   "source": [
    "result_rf = DML(\n",
    "        Y=Y,\n",
    "        A=A,\n",
    "        X=X,classifier=RandomForestClassifier(**rfc_params), regressor=RandomForestRegressor(**rfr_params),\n",
    "    random_seed=0,\n",
    "    k_folds=K,    \n",
    "\n",
    ")      \n",
    "result_rf.train()\n",
    "\n",
    "lb_rf, ub_rf, mean_rf, sd_rf = result_rf.significance_testing()\n",
    "print('beta hat', result_rf.beta_hat)\n",
    "print('p value', result_rf.p_value)\n",
    "print('ci', result_rf.ci)\n",
    "print('lb', lb_rf)\n",
    "print('ub', ub_rf)\n",
    "\n"
   ]
  },
  {
   "cell_type": "code",
   "execution_count": 15,
   "id": "8b30def3-c7ed-4bf7-a859-00a969d01a27",
   "metadata": {},
   "outputs": [
    {
     "data": {
      "text/plain": [
       "{'max_depth': 100}"
      ]
     },
     "execution_count": 15,
     "metadata": {},
     "output_type": "execute_result"
    }
   ],
   "source": [
    "rfc.best_params_"
   ]
  },
  {
   "cell_type": "code",
   "execution_count": null,
   "id": "a06921dc-e8a6-44c2-8526-23c3175b12b2",
   "metadata": {},
   "outputs": [],
   "source": []
  },
  {
   "cell_type": "code",
   "execution_count": 67,
   "id": "24c17a74-afde-43fd-b9ea-49038d3f10a1",
   "metadata": {},
   "outputs": [
    {
     "name": "stdout",
     "output_type": "stream",
     "text": [
      "Getting predictions for fold k = 1\n",
      "Predicting M_hat\n",
      "Getting predictions for subfold j = 1\n",
      "Predicting M_hat\n",
      "Predicting a_hat\n",
      "Getting predictions for subfold j = 2\n",
      "Predicting M_hat\n",
      "Predicting a_hat\n",
      "Getting predictions for subfold j = 3\n",
      "Predicting M_hat\n",
      "Predicting a_hat\n",
      "Getting predictions for subfold j = 4\n",
      "Predicting M_hat\n",
      "Predicting a_hat\n",
      "Getting predictions for subfold j = 5\n",
      "Predicting M_hat\n",
      "Predicting a_hat\n",
      "Predicting t_hat\n",
      "Getting predictions for fold k = 2\n",
      "Predicting M_hat\n",
      "Getting predictions for subfold j = 1\n",
      "Predicting M_hat\n",
      "Predicting a_hat\n",
      "Getting predictions for subfold j = 2\n",
      "Predicting M_hat\n",
      "Predicting a_hat\n",
      "Getting predictions for subfold j = 3\n",
      "Predicting M_hat\n",
      "Predicting a_hat\n",
      "Getting predictions for subfold j = 4\n",
      "Predicting M_hat\n",
      "Predicting a_hat\n",
      "Getting predictions for subfold j = 5\n",
      "Predicting M_hat\n",
      "Predicting a_hat\n",
      "Predicting t_hat\n",
      "Getting predictions for fold k = 3\n",
      "Predicting M_hat\n",
      "Getting predictions for subfold j = 1\n",
      "Predicting M_hat\n",
      "Predicting a_hat\n",
      "Getting predictions for subfold j = 2\n",
      "Predicting M_hat\n",
      "Predicting a_hat\n",
      "Getting predictions for subfold j = 3\n",
      "Predicting M_hat\n",
      "Predicting a_hat\n",
      "Getting predictions for subfold j = 4\n",
      "Predicting M_hat\n",
      "Predicting a_hat\n",
      "Getting predictions for subfold j = 5\n",
      "Predicting M_hat\n",
      "Predicting a_hat\n",
      "Predicting t_hat\n",
      "Getting predictions for fold k = 4\n",
      "Predicting M_hat\n",
      "Getting predictions for subfold j = 1\n",
      "Predicting M_hat\n",
      "Predicting a_hat\n",
      "Getting predictions for subfold j = 2\n",
      "Predicting M_hat\n",
      "Predicting a_hat\n",
      "Getting predictions for subfold j = 3\n",
      "Predicting M_hat\n",
      "Predicting a_hat\n",
      "Getting predictions for subfold j = 4\n",
      "Predicting M_hat\n",
      "Predicting a_hat\n",
      "Getting predictions for subfold j = 5\n",
      "Predicting M_hat\n",
      "Predicting a_hat\n",
      "Predicting t_hat\n",
      "Getting predictions for fold k = 5\n",
      "Predicting M_hat\n",
      "Getting predictions for subfold j = 1\n",
      "Predicting M_hat\n",
      "Predicting a_hat\n",
      "Getting predictions for subfold j = 2\n",
      "Predicting M_hat\n",
      "Predicting a_hat\n",
      "Getting predictions for subfold j = 3\n",
      "Predicting M_hat\n",
      "Predicting a_hat\n",
      "Getting predictions for subfold j = 4\n",
      "Predicting M_hat\n",
      "Predicting a_hat\n",
      "Getting predictions for subfold j = 5\n",
      "Predicting M_hat\n",
      "Predicting a_hat\n",
      "Predicting t_hat\n",
      "beta hat 0.1703483961890969\n",
      "p value 0.54\n",
      "ci (0.15474495147931164, 0.18595184089888214)\n",
      "lb -0.38148389765374113\n",
      "ub 0.7770859082985317\n"
     ]
    }
   ],
   "source": [
    "\n",
    "\n",
    "result_sv = DML(\n",
    "        Y=Y,\n",
    "        A=A,\n",
    "        X=X,classifier=SVC(probability=True), regressor=SVR(),random_seed=0, k_folds=K,\n",
    "        # M_hat_classifier=SVC(probability=True,kernel='linear'),\n",
    "        # a_hat_classifier=SVC(probability=True,kernel='linear'),)      \n",
    ")\n",
    "\n",
    "result_sv.train()\n",
    "\n",
    "lb_sv, ub_sv, mean_sv, sd_sv = result_sv.significance_testing()\n",
    "print('beta hat', result_sv.beta_hat)\n",
    "print('p value', result_sv.p_value)\n",
    "print('ci', result_sv.ci)\n",
    "print('lb', lb_sv)\n",
    "print('ub', ub_sv)"
   ]
  },
  {
   "cell_type": "code",
   "execution_count": 1,
   "id": "6b580ad7-0069-4d25-98e2-1f9caf1d7ffa",
   "metadata": {},
   "outputs": [
    {
     "ename": "NameError",
     "evalue": "name 'keras' is not defined",
     "output_type": "error",
     "traceback": [
      "\u001b[0;31m---------------------------------------------------------------------------\u001b[0m",
      "\u001b[0;31mNameError\u001b[0m                                 Traceback (most recent call last)",
      "Cell \u001b[0;32mIn[1], line 1\u001b[0m\n\u001b[0;32m----> 1\u001b[0m model_nnr \u001b[38;5;241m=\u001b[39m \u001b[43mkeras\u001b[49m\u001b[38;5;241m.\u001b[39mSequential([ \n\u001b[1;32m      2\u001b[0m     keras\u001b[38;5;241m.\u001b[39mlayers\u001b[38;5;241m.\u001b[39mDense(\u001b[38;5;241m5\u001b[39m, input_shape\u001b[38;5;241m=\u001b[39m(X_rs\u001b[38;5;241m.\u001b[39mshape[\u001b[38;5;241m1\u001b[39m],), \n\u001b[1;32m      3\u001b[0m                        activation\u001b[38;5;241m=\u001b[39m\u001b[38;5;124m'\u001b[39m\u001b[38;5;124msigmoid\u001b[39m\u001b[38;5;124m'\u001b[39m),keras\u001b[38;5;241m.\u001b[39mlayers\u001b[38;5;241m.\u001b[39mDense(\u001b[38;5;241m5\u001b[39m, activation\u001b[38;5;241m=\u001b[39m\u001b[38;5;124m'\u001b[39m\u001b[38;5;124mrelu\u001b[39m\u001b[38;5;124m'\u001b[39m),keras\u001b[38;5;241m.\u001b[39mlayers\u001b[38;5;241m.\u001b[39mDense(\u001b[38;5;241m1\u001b[39m)]) \n\u001b[1;32m      4\u001b[0m model_nnr\u001b[38;5;241m.\u001b[39mcompile( \n\u001b[1;32m      5\u001b[0m     optimizer\u001b[38;5;241m=\u001b[39m\u001b[38;5;124m'\u001b[39m\u001b[38;5;124madam\u001b[39m\u001b[38;5;124m'\u001b[39m, \n\u001b[1;32m      6\u001b[0m     loss\u001b[38;5;241m=\u001b[39m\u001b[38;5;124m'\u001b[39m\u001b[38;5;124mmean_squared_error\u001b[39m\u001b[38;5;124m'\u001b[39m, \n\u001b[1;32m      7\u001b[0m     metrics\u001b[38;5;241m=\u001b[39m[\u001b[38;5;124m'\u001b[39m\u001b[38;5;124maccuracy\u001b[39m\u001b[38;5;124m'\u001b[39m]) \n\u001b[1;32m      8\u001b[0m model_nnc \u001b[38;5;241m=\u001b[39m keras\u001b[38;5;241m.\u001b[39mSequential([ \n\u001b[1;32m      9\u001b[0m     keras\u001b[38;5;241m.\u001b[39mlayers\u001b[38;5;241m.\u001b[39mDense(\u001b[38;5;241m5\u001b[39m, input_shape\u001b[38;5;241m=\u001b[39m(X_rs\u001b[38;5;241m.\u001b[39mshape[\u001b[38;5;241m1\u001b[39m],), \n\u001b[1;32m     10\u001b[0m                        activation\u001b[38;5;241m=\u001b[39m\u001b[38;5;124m'\u001b[39m\u001b[38;5;124mrelu\u001b[39m\u001b[38;5;124m'\u001b[39m),keras\u001b[38;5;241m.\u001b[39mlayers\u001b[38;5;241m.\u001b[39mDense(\u001b[38;5;241m5\u001b[39m, activation\u001b[38;5;241m=\u001b[39m\u001b[38;5;124m'\u001b[39m\u001b[38;5;124mrelu\u001b[39m\u001b[38;5;124m'\u001b[39m),keras\u001b[38;5;241m.\u001b[39mlayers\u001b[38;5;241m.\u001b[39mDense(units\u001b[38;5;241m=\u001b[39m\u001b[38;5;241m1\u001b[39m, activation\u001b[38;5;241m=\u001b[39m\u001b[38;5;124m'\u001b[39m\u001b[38;5;124msigmoid\u001b[39m\u001b[38;5;124m'\u001b[39m)\n\u001b[1;32m     11\u001b[0m ]) \n",
      "\u001b[0;31mNameError\u001b[0m: name 'keras' is not defined"
     ]
    }
   ],
   "source": [
    "\n",
    "\n",
    "model_nnr = keras.Sequential([ \n",
    "    keras.layers.Dense(5, input_shape=(X_rs.shape[1],), \n",
    "                       activation='sigmoid'),keras.layers.Dense(5, activation='relu'),keras.layers.Dense(1)]) \n",
    "model_nnr.compile( \n",
    "    optimizer='adam', \n",
    "    loss='mean_squared_error', \n",
    "    metrics=['accuracy']) \n",
    "model_nnc = keras.Sequential([ \n",
    "    keras.layers.Dense(5, input_shape=(X_rs.shape[1],), \n",
    "                       activation='relu'),keras.layers.Dense(5, activation='relu'),keras.layers.Dense(units=1, activation='sigmoid')\n",
    "]) \n",
    "model_nnc.compile(optimizer='adam', loss='binary_crossentropy', metrics=['accuracy']) \n",
    "result_nn = DML(\n",
    "        Y=y_rs,\n",
    "        A=A_rs,\n",
    "        X=X_rs,classifier=model_nnc , regressor=model_nnr,random_seed=0, k_folds=K)      \n",
    "\n",
    "\n",
    "result_nn.train()\n",
    "\n",
    "lb_nn, ub_nn, mean_nn, sd_nn = result_sv.significance_testing()\n",
    "print('beta hat', result_nn.beta_hat)\n",
    "print('p value', result_nn.p_value)\n",
    "print('ci', result_nn.ci)\n",
    "print('lb', lb_nn)\n",
    "print('ub', ub_nn)"
   ]
  },
  {
   "cell_type": "markdown",
   "id": "11642866-14c6-4fca-b58a-8aa3385b72b7",
   "metadata": {},
   "source": [
    "for tensorflow<=2.5, predict_proba is  deprectaed and no longer in use"
   ]
  },
  {
   "cell_type": "code",
   "execution_count": 69,
   "id": "34001482-ad81-4aee-a54e-ac46331a9e39",
   "metadata": {},
   "outputs": [],
   "source": [
    "data = {'ML':['GB','RF','SVM'],'Beta':[result_gb.beta_hat,result_rf.beta_hat,result_sv.beta_hat],\n",
    "       'CI_LB':[result_gb.ci[0],result_rf.ci[0],result_sv.ci[0]], \n",
    "        \"CI_UB\":[result_gb.ci[1],result_rf.ci[1],result_sv.ci[1]],\n",
    "        \"p_val\":[result_gb.p_value,result_rf.p_value,result_sv.p_value]}\n",
    "                        "
   ]
  },
  {
   "cell_type": "code",
   "execution_count": 70,
   "id": "6d5d4d22-2c62-4f3b-a897-ba1cfc89a9aa",
   "metadata": {},
   "outputs": [
    {
     "data": {
      "text/html": [
       "<div>\n",
       "<style scoped>\n",
       "    .dataframe tbody tr th:only-of-type {\n",
       "        vertical-align: middle;\n",
       "    }\n",
       "\n",
       "    .dataframe tbody tr th {\n",
       "        vertical-align: top;\n",
       "    }\n",
       "\n",
       "    .dataframe thead th {\n",
       "        text-align: right;\n",
       "    }\n",
       "</style>\n",
       "<table border=\"1\" class=\"dataframe\">\n",
       "  <thead>\n",
       "    <tr style=\"text-align: right;\">\n",
       "      <th></th>\n",
       "      <th>ML</th>\n",
       "      <th>Beta</th>\n",
       "      <th>CI_LB</th>\n",
       "      <th>CI_UB</th>\n",
       "      <th>p_val</th>\n",
       "    </tr>\n",
       "  </thead>\n",
       "  <tbody>\n",
       "    <tr>\n",
       "      <th>0</th>\n",
       "      <td>GB</td>\n",
       "      <td>-0.146908</td>\n",
       "      <td>-0.173833</td>\n",
       "      <td>-0.119982</td>\n",
       "      <td>0.735</td>\n",
       "    </tr>\n",
       "    <tr>\n",
       "      <th>1</th>\n",
       "      <td>RF</td>\n",
       "      <td>-0.182344</td>\n",
       "      <td>-0.187698</td>\n",
       "      <td>-0.176989</td>\n",
       "      <td>0.095</td>\n",
       "    </tr>\n",
       "    <tr>\n",
       "      <th>2</th>\n",
       "      <td>SVM</td>\n",
       "      <td>0.170348</td>\n",
       "      <td>0.154745</td>\n",
       "      <td>0.185952</td>\n",
       "      <td>0.540</td>\n",
       "    </tr>\n",
       "  </tbody>\n",
       "</table>\n",
       "</div>"
      ],
      "text/plain": [
       "    ML      Beta     CI_LB     CI_UB  p_val\n",
       "0   GB -0.146908 -0.173833 -0.119982  0.735\n",
       "1   RF -0.182344 -0.187698 -0.176989  0.095\n",
       "2  SVM  0.170348  0.154745  0.185952  0.540"
      ]
     },
     "execution_count": 70,
     "metadata": {},
     "output_type": "execute_result"
    }
   ],
   "source": [
    "data=pd.DataFrame(data)\n",
    "data"
   ]
  },
  {
   "cell_type": "code",
   "execution_count": null,
   "id": "bcc3dd19-97e8-4fe4-bea8-cea62a61c493",
   "metadata": {},
   "outputs": [],
   "source": []
  },
  {
   "cell_type": "code",
   "execution_count": null,
   "id": "0df37f5d-e711-4398-839e-90508e68b791",
   "metadata": {},
   "outputs": [],
   "source": []
  }
 ],
 "metadata": {
  "kernelspec": {
   "display_name": "Python 3 (ipykernel)",
   "language": "python",
   "name": "python3"
  },
  "language_info": {
   "codemirror_mode": {
    "name": "ipython",
    "version": 3
   },
   "file_extension": ".py",
   "mimetype": "text/x-python",
   "name": "python",
   "nbconvert_exporter": "python",
   "pygments_lexer": "ipython3",
   "version": "3.11.7"
  }
 },
 "nbformat": 4,
 "nbformat_minor": 5
}
