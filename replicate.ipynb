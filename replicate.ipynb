{
 "cells": [
  {
   "cell_type": "markdown",
   "id": "6dc120a1-b7a5-44ab-b759-257147bc9354",
   "metadata": {},
   "source": []
  },
  {
   "cell_type": "code",
   "execution_count": null,
   "id": "8ed42050-d045-4609-ba1a-27e42bf69f37",
   "metadata": {},
   "outputs": [],
   "source": []
  },
  {
   "cell_type": "code",
   "execution_count": 1,
   "id": "8016f267",
   "metadata": {
    "scrolled": true
   },
   "outputs": [],
   "source": [
    "import numpy as np\n",
    "import pandas as pd\n",
    "from logistic_dml import DML\n",
    "from sklearn.ensemble import GradientBoostingRegressor, GradientBoostingClassifier,RandomForestClassifier\n",
    "from imblearn.under_sampling import RandomUnderSampler\n",
    "from sklearn.svm import SVR,SVC\n",
    "from sklearn.linear_model import LogisticRegression, LinearRegression\n",
    "from imblearn.pipeline import Pipeline, make_pipeline\n",
    "from sklearn.ensemble import RandomForestClassifier, RandomForestRegressor\n",
    "from sklearn.feature_selection import SelectKBest, f_classif, VarianceThreshold, f_regression\n",
    "from sklearn.preprocessing import MinMaxScaler, StandardScaler, QuantileTransformer\n",
    "from sklearn.preprocessing import LabelBinarizer\n",
    "from sklearn.preprocessing import PolynomialFeatures, SplineTransformer, PowerTransformer\n",
    "from tensorflow.keras.models import Sequential\n",
    "from tensorflow.keras.layers import Dropout\n",
    "from tensorflow import keras \n",
    "from scipy import stats\n",
    "from sklearn.linear_model import SGDClassifier, SGDRegressor\n",
    "from sklearn.model_selection import GridSearchCV"
   ]
  },
  {
   "cell_type": "code",
   "execution_count": 2,
   "id": "bab2e56d",
   "metadata": {},
   "outputs": [],
   "source": [
    "df = pd.read_csv( '../../Dataset2_BirthAge20-34_subset10000.csv', low_memory=False)"
   ]
  },
  {
   "cell_type": "code",
   "execution_count": 3,
   "id": "47f9967c-ed59-4ac1-9c98-9a7195ca0d65",
   "metadata": {},
   "outputs": [
    {
     "data": {
      "text/plain": [
       "(5947, 23)"
      ]
     },
     "execution_count": 3,
     "metadata": {},
     "output_type": "execute_result"
    }
   ],
   "source": [
    "df[df.birth==0].shape"
   ]
  },
  {
   "cell_type": "code",
   "execution_count": 4,
   "id": "6b8e49f3",
   "metadata": {},
   "outputs": [],
   "source": [
    "train =df.drop(['Unnamed: 0'],axis=1)"
   ]
  },
  {
   "cell_type": "code",
   "execution_count": 5,
   "id": "a692e1f6",
   "metadata": {},
   "outputs": [],
   "source": [
    "Y = train['birth']\n",
    "A = train['pill']\n",
    "X = train.drop(['pill','birth'], axis=1)\n",
    "K=5"
   ]
  },
  {
   "cell_type": "code",
   "execution_count": 6,
   "id": "9846e5cc-f2d9-4a8f-beb5-a1442ea8e453",
   "metadata": {},
   "outputs": [
    {
     "name": "stdout",
     "output_type": "stream",
     "text": [
      "Fitting 5 folds for each of 3 candidates, totalling 15 fits\n",
      "[CV 1/5] END .................n_estimators=100;, score=-0.600 total time=   1.3s\n",
      "[CV 2/5] END .................n_estimators=100;, score=-0.585 total time=   1.3s\n",
      "[CV 3/5] END .................n_estimators=100;, score=-0.591 total time=   1.3s\n",
      "[CV 4/5] END .................n_estimators=100;, score=-0.602 total time=   1.3s\n",
      "[CV 5/5] END .................n_estimators=100;, score=-0.595 total time=   1.3s\n",
      "[CV 1/5] END .................n_estimators=200;, score=-0.611 total time=   2.7s\n",
      "[CV 2/5] END .................n_estimators=200;, score=-0.598 total time=   2.7s\n",
      "[CV 3/5] END .................n_estimators=200;, score=-0.604 total time=   2.7s\n",
      "[CV 4/5] END .................n_estimators=200;, score=-0.611 total time=   2.7s\n",
      "[CV 5/5] END .................n_estimators=200;, score=-0.605 total time=   2.7s\n",
      "[CV 1/5] END .................n_estimators=300;, score=-0.613 total time=   4.0s\n",
      "[CV 2/5] END .................n_estimators=300;, score=-0.600 total time=   4.0s\n",
      "[CV 3/5] END .................n_estimators=300;, score=-0.615 total time=   4.0s\n",
      "[CV 4/5] END .................n_estimators=300;, score=-0.619 total time=   4.0s\n",
      "[CV 5/5] END .................n_estimators=300;, score=-0.609 total time=   4.0s\n",
      "Fitting 5 folds for each of 3 candidates, totalling 15 fits\n",
      "[CV 1/5] END .................n_estimators=100;, score=-0.461 total time=   1.3s\n",
      "[CV 2/5] END .................n_estimators=100;, score=-0.465 total time=   1.3s\n",
      "[CV 3/5] END .................n_estimators=100;, score=-0.469 total time=   1.3s\n",
      "[CV 4/5] END .................n_estimators=100;, score=-0.466 total time=   1.3s\n",
      "[CV 5/5] END .................n_estimators=100;, score=-0.463 total time=   1.3s\n",
      "[CV 1/5] END .................n_estimators=200;, score=-0.467 total time=   2.6s\n",
      "[CV 2/5] END .................n_estimators=200;, score=-0.469 total time=   2.6s\n",
      "[CV 3/5] END .................n_estimators=200;, score=-0.473 total time=   2.6s\n",
      "[CV 4/5] END .................n_estimators=200;, score=-0.470 total time=   2.6s\n",
      "[CV 5/5] END .................n_estimators=200;, score=-0.467 total time=   2.6s\n",
      "[CV 1/5] END .................n_estimators=300;, score=-0.471 total time=   3.9s\n",
      "[CV 2/5] END .................n_estimators=300;, score=-0.473 total time=   3.9s\n",
      "[CV 3/5] END .................n_estimators=300;, score=-0.477 total time=   3.9s\n",
      "[CV 4/5] END .................n_estimators=300;, score=-0.475 total time=   3.9s\n",
      "[CV 5/5] END .................n_estimators=300;, score=-0.470 total time=   3.9s\n"
     ]
    },
    {
     "data": {
      "text/html": [
       "<style>#sk-container-id-1 {color: black;background-color: white;}#sk-container-id-1 pre{padding: 0;}#sk-container-id-1 div.sk-toggleable {background-color: white;}#sk-container-id-1 label.sk-toggleable__label {cursor: pointer;display: block;width: 100%;margin-bottom: 0;padding: 0.3em;box-sizing: border-box;text-align: center;}#sk-container-id-1 label.sk-toggleable__label-arrow:before {content: \"▸\";float: left;margin-right: 0.25em;color: #696969;}#sk-container-id-1 label.sk-toggleable__label-arrow:hover:before {color: black;}#sk-container-id-1 div.sk-estimator:hover label.sk-toggleable__label-arrow:before {color: black;}#sk-container-id-1 div.sk-toggleable__content {max-height: 0;max-width: 0;overflow: hidden;text-align: left;background-color: #f0f8ff;}#sk-container-id-1 div.sk-toggleable__content pre {margin: 0.2em;color: black;border-radius: 0.25em;background-color: #f0f8ff;}#sk-container-id-1 input.sk-toggleable__control:checked~div.sk-toggleable__content {max-height: 200px;max-width: 100%;overflow: auto;}#sk-container-id-1 input.sk-toggleable__control:checked~label.sk-toggleable__label-arrow:before {content: \"▾\";}#sk-container-id-1 div.sk-estimator input.sk-toggleable__control:checked~label.sk-toggleable__label {background-color: #d4ebff;}#sk-container-id-1 div.sk-label input.sk-toggleable__control:checked~label.sk-toggleable__label {background-color: #d4ebff;}#sk-container-id-1 input.sk-hidden--visually {border: 0;clip: rect(1px 1px 1px 1px);clip: rect(1px, 1px, 1px, 1px);height: 1px;margin: -1px;overflow: hidden;padding: 0;position: absolute;width: 1px;}#sk-container-id-1 div.sk-estimator {font-family: monospace;background-color: #f0f8ff;border: 1px dotted black;border-radius: 0.25em;box-sizing: border-box;margin-bottom: 0.5em;}#sk-container-id-1 div.sk-estimator:hover {background-color: #d4ebff;}#sk-container-id-1 div.sk-parallel-item::after {content: \"\";width: 100%;border-bottom: 1px solid gray;flex-grow: 1;}#sk-container-id-1 div.sk-label:hover label.sk-toggleable__label {background-color: #d4ebff;}#sk-container-id-1 div.sk-serial::before {content: \"\";position: absolute;border-left: 1px solid gray;box-sizing: border-box;top: 0;bottom: 0;left: 50%;z-index: 0;}#sk-container-id-1 div.sk-serial {display: flex;flex-direction: column;align-items: center;background-color: white;padding-right: 0.2em;padding-left: 0.2em;position: relative;}#sk-container-id-1 div.sk-item {position: relative;z-index: 1;}#sk-container-id-1 div.sk-parallel {display: flex;align-items: stretch;justify-content: center;background-color: white;position: relative;}#sk-container-id-1 div.sk-item::before, #sk-container-id-1 div.sk-parallel-item::before {content: \"\";position: absolute;border-left: 1px solid gray;box-sizing: border-box;top: 0;bottom: 0;left: 50%;z-index: -1;}#sk-container-id-1 div.sk-parallel-item {display: flex;flex-direction: column;z-index: 1;position: relative;background-color: white;}#sk-container-id-1 div.sk-parallel-item:first-child::after {align-self: flex-end;width: 50%;}#sk-container-id-1 div.sk-parallel-item:last-child::after {align-self: flex-start;width: 50%;}#sk-container-id-1 div.sk-parallel-item:only-child::after {width: 0;}#sk-container-id-1 div.sk-dashed-wrapped {border: 1px dashed gray;margin: 0 0.4em 0.5em 0.4em;box-sizing: border-box;padding-bottom: 0.4em;background-color: white;}#sk-container-id-1 div.sk-label label {font-family: monospace;font-weight: bold;display: inline-block;line-height: 1.2em;}#sk-container-id-1 div.sk-label-container {text-align: center;}#sk-container-id-1 div.sk-container {/* jupyter's `normalize.less` sets `[hidden] { display: none; }` but bootstrap.min.css set `[hidden] { display: none !important; }` so we also need the `!important` here to be able to override the default hidden behavior on the sphinx rendered scikit-learn.org. See: https://github.com/scikit-learn/scikit-learn/issues/21755 */display: inline-block !important;position: relative;}#sk-container-id-1 div.sk-text-repr-fallback {display: none;}</style><div id=\"sk-container-id-1\" class=\"sk-top-container\"><div class=\"sk-text-repr-fallback\"><pre>GridSearchCV(estimator=GradientBoostingRegressor(),\n",
       "             param_grid={&#x27;n_estimators&#x27;: [100, 200, 300]},\n",
       "             scoring=&#x27;neg_root_mean_squared_error&#x27;, verbose=3)</pre><b>In a Jupyter environment, please rerun this cell to show the HTML representation or trust the notebook. <br />On GitHub, the HTML representation is unable to render, please try loading this page with nbviewer.org.</b></div><div class=\"sk-container\" hidden><div class=\"sk-item sk-dashed-wrapped\"><div class=\"sk-label-container\"><div class=\"sk-label sk-toggleable\"><input class=\"sk-toggleable__control sk-hidden--visually\" id=\"sk-estimator-id-1\" type=\"checkbox\" ><label for=\"sk-estimator-id-1\" class=\"sk-toggleable__label sk-toggleable__label-arrow\">GridSearchCV</label><div class=\"sk-toggleable__content\"><pre>GridSearchCV(estimator=GradientBoostingRegressor(),\n",
       "             param_grid={&#x27;n_estimators&#x27;: [100, 200, 300]},\n",
       "             scoring=&#x27;neg_root_mean_squared_error&#x27;, verbose=3)</pre></div></div></div><div class=\"sk-parallel\"><div class=\"sk-parallel-item\"><div class=\"sk-item\"><div class=\"sk-label-container\"><div class=\"sk-label sk-toggleable\"><input class=\"sk-toggleable__control sk-hidden--visually\" id=\"sk-estimator-id-2\" type=\"checkbox\" ><label for=\"sk-estimator-id-2\" class=\"sk-toggleable__label sk-toggleable__label-arrow\">estimator: GradientBoostingRegressor</label><div class=\"sk-toggleable__content\"><pre>GradientBoostingRegressor()</pre></div></div></div><div class=\"sk-serial\"><div class=\"sk-item\"><div class=\"sk-estimator sk-toggleable\"><input class=\"sk-toggleable__control sk-hidden--visually\" id=\"sk-estimator-id-3\" type=\"checkbox\" ><label for=\"sk-estimator-id-3\" class=\"sk-toggleable__label sk-toggleable__label-arrow\">GradientBoostingRegressor</label><div class=\"sk-toggleable__content\"><pre>GradientBoostingRegressor()</pre></div></div></div></div></div></div></div></div></div></div>"
      ],
      "text/plain": [
       "GridSearchCV(estimator=GradientBoostingRegressor(),\n",
       "             param_grid={'n_estimators': [100, 200, 300]},\n",
       "             scoring='neg_root_mean_squared_error', verbose=3)"
      ]
     },
     "execution_count": 6,
     "metadata": {},
     "output_type": "execute_result"
    }
   ],
   "source": [
    "gbr_param_r={'n_estimators':[100,200,300],\n",
    "          }\n",
    "gbr_param_c={'n_estimators':[100,200,300],\n",
    "          }\n",
    "gbc= GridSearchCV(GradientBoostingClassifier(), param_grid=gbr_param_c,  scoring = 'neg_root_mean_squared_error', verbose=3)\n",
    "gbr= GridSearchCV(GradientBoostingRegressor(), param_grid=gbr_param_r, scoring = 'neg_root_mean_squared_error', verbose=3)\n",
    "gbc.fit(X,Y)\n",
    "gbr.fit(X,Y)\n",
    "\n"
   ]
  },
  {
   "cell_type": "code",
   "execution_count": 7,
   "id": "ebabfda4-2020-447d-9555-abc2a1684f55",
   "metadata": {},
   "outputs": [
    {
     "name": "stdout",
     "output_type": "stream",
     "text": [
      "Getting predictions for fold k = 1\n",
      "Predicting M_hat\n",
      "Getting predictions for subfold j = 1\n",
      "Predicting M_hat\n",
      "Predicting a_hat\n",
      "Getting predictions for subfold j = 2\n",
      "Predicting M_hat\n",
      "Predicting a_hat\n",
      "Getting predictions for subfold j = 3\n",
      "Predicting M_hat\n",
      "Predicting a_hat\n",
      "Getting predictions for subfold j = 4\n",
      "Predicting M_hat\n",
      "Predicting a_hat\n",
      "Getting predictions for subfold j = 5\n",
      "Predicting M_hat\n",
      "Predicting a_hat\n",
      "Predicting t_hat\n",
      "Getting predictions for fold k = 2\n",
      "Predicting M_hat\n",
      "Getting predictions for subfold j = 1\n",
      "Predicting M_hat\n",
      "Predicting a_hat\n",
      "Getting predictions for subfold j = 2\n",
      "Predicting M_hat\n",
      "Predicting a_hat\n",
      "Getting predictions for subfold j = 3\n",
      "Predicting M_hat\n",
      "Predicting a_hat\n",
      "Getting predictions for subfold j = 4\n",
      "Predicting M_hat\n",
      "Predicting a_hat\n",
      "Getting predictions for subfold j = 5\n",
      "Predicting M_hat\n",
      "Predicting a_hat\n",
      "Predicting t_hat\n",
      "Getting predictions for fold k = 3\n",
      "Predicting M_hat\n",
      "Getting predictions for subfold j = 1\n",
      "Predicting M_hat\n",
      "Predicting a_hat\n",
      "Getting predictions for subfold j = 2\n",
      "Predicting M_hat\n",
      "Predicting a_hat\n",
      "Getting predictions for subfold j = 3\n",
      "Predicting M_hat\n",
      "Predicting a_hat\n",
      "Getting predictions for subfold j = 4\n",
      "Predicting M_hat\n",
      "Predicting a_hat\n",
      "Getting predictions for subfold j = 5\n",
      "Predicting M_hat\n",
      "Predicting a_hat\n",
      "Predicting t_hat\n",
      "Getting predictions for fold k = 4\n",
      "Predicting M_hat\n",
      "Getting predictions for subfold j = 1\n",
      "Predicting M_hat\n",
      "Predicting a_hat\n",
      "Getting predictions for subfold j = 2\n",
      "Predicting M_hat\n",
      "Predicting a_hat\n",
      "Getting predictions for subfold j = 3\n",
      "Predicting M_hat\n",
      "Predicting a_hat\n",
      "Getting predictions for subfold j = 4\n",
      "Predicting M_hat\n",
      "Predicting a_hat\n",
      "Getting predictions for subfold j = 5\n",
      "Predicting M_hat\n",
      "Predicting a_hat\n",
      "Predicting t_hat\n",
      "Getting predictions for fold k = 5\n",
      "Predicting M_hat\n",
      "Getting predictions for subfold j = 1\n",
      "Predicting M_hat\n",
      "Predicting a_hat\n",
      "Getting predictions for subfold j = 2\n",
      "Predicting M_hat\n",
      "Predicting a_hat\n",
      "Getting predictions for subfold j = 3\n",
      "Predicting M_hat\n",
      "Predicting a_hat\n",
      "Getting predictions for subfold j = 4\n",
      "Predicting M_hat\n",
      "Predicting a_hat\n",
      "Getting predictions for subfold j = 5\n",
      "Predicting M_hat\n",
      "Predicting a_hat\n",
      "Predicting t_hat\n"
     ]
    },
    {
     "name": "stderr",
     "output_type": "stream",
     "text": [
      "/Users/cheapp-pc01-04/anaconda3/envs/parttime/lib/python3.11/site-packages/pandas/core/arraylike.py:399: RuntimeWarning: overflow encountered in exp\n",
      "  result = getattr(ufunc, method)(*inputs, **kwargs)\n"
     ]
    },
    {
     "name": "stdout",
     "output_type": "stream",
     "text": [
      "beta hat -0.16281084062794718\n",
      "p value 0.7448979591836735\n",
      "ci (-0.18588775450824152, -0.13973392674765284)\n",
      "lb -0.8236017742209741\n",
      "ub 0.9898024950388595\n"
     ]
    }
   ],
   "source": [
    "result_gb = DML(\n",
    "        Y=Y,\n",
    "        A=A,\n",
    "        X=X,classifier=GradientBoostingClassifier(), regressor=GradientBoostingRegressor(),random_seed=0, k_folds=K,\n",
    "    # M_hat_classifier=GradientBoostingClassifier(),\n",
    "    #          a_hat_classifier=GradientBoostingClassifier()\n",
    ")      \n",
    "\n",
    "\n",
    "result_gb.train()\n",
    "lb_gb, ub_gb, mean_gb, sd_gb = result_gb.significance_testing()\n",
    "\n",
    "print('beta hat', result_gb.beta_hat)\n",
    "print('p value', result_gb.p_value)\n",
    "print('ci', result_gb.ci)\n",
    "print('lb', lb_gb)\n",
    "print('ub', ub_gb)"
   ]
  },
  {
   "cell_type": "code",
   "execution_count": 8,
   "id": "4c966649-6dbf-42da-8774-d42ddeb1409c",
   "metadata": {},
   "outputs": [
    {
     "data": {
      "text/plain": [
       "{'n_estimators': 100}"
      ]
     },
     "execution_count": 8,
     "metadata": {},
     "output_type": "execute_result"
    }
   ],
   "source": [
    "gbc.best_params_"
   ]
  },
  {
   "cell_type": "code",
   "execution_count": 9,
   "id": "d6dc09df-a028-4117-9197-56aa870fbf6e",
   "metadata": {},
   "outputs": [
    {
     "name": "stdout",
     "output_type": "stream",
     "text": [
      "Fitting 5 folds for each of 3 candidates, totalling 15 fits\n",
      "[CV 1/5] END ..................n_estimators=25;, score=-0.688 total time=   0.2s\n",
      "[CV 2/5] END ..................n_estimators=25;, score=-0.672 total time=   0.3s\n",
      "[CV 3/5] END ..................n_estimators=25;, score=-0.689 total time=   0.2s\n",
      "[CV 4/5] END ..................n_estimators=25;, score=-0.697 total time=   0.2s\n",
      "[CV 5/5] END ..................n_estimators=25;, score=-0.690 total time=   0.2s\n",
      "[CV 1/5] END ..................n_estimators=50;, score=-0.686 total time=   0.5s\n",
      "[CV 2/5] END ..................n_estimators=50;, score=-0.673 total time=   0.5s\n",
      "[CV 3/5] END ..................n_estimators=50;, score=-0.694 total time=   0.5s\n",
      "[CV 4/5] END ..................n_estimators=50;, score=-0.696 total time=   0.5s\n",
      "[CV 5/5] END ..................n_estimators=50;, score=-0.687 total time=   0.5s\n",
      "[CV 1/5] END .................n_estimators=100;, score=-0.687 total time=   1.0s\n",
      "[CV 2/5] END .................n_estimators=100;, score=-0.674 total time=   1.0s\n",
      "[CV 3/5] END .................n_estimators=100;, score=-0.699 total time=   1.0s\n",
      "[CV 4/5] END .................n_estimators=100;, score=-0.699 total time=   1.0s\n",
      "[CV 5/5] END .................n_estimators=100;, score=-0.686 total time=   1.0s\n",
      "Fitting 5 folds for each of 3 candidates, totalling 15 fits\n",
      "[CV 1/5] END ..................n_estimators=25;, score=-0.559 total time=   0.9s\n",
      "[CV 2/5] END ..................n_estimators=25;, score=-0.559 total time=   0.9s\n",
      "[CV 3/5] END ..................n_estimators=25;, score=-0.569 total time=   0.9s\n",
      "[CV 4/5] END ..................n_estimators=25;, score=-0.565 total time=   0.9s\n",
      "[CV 5/5] END ..................n_estimators=25;, score=-0.553 total time=   0.9s\n",
      "[CV 1/5] END ..................n_estimators=50;, score=-0.557 total time=   1.7s\n",
      "[CV 2/5] END ..................n_estimators=50;, score=-0.558 total time=   1.7s\n",
      "[CV 3/5] END ..................n_estimators=50;, score=-0.566 total time=   1.7s\n",
      "[CV 4/5] END ..................n_estimators=50;, score=-0.563 total time=   1.8s\n",
      "[CV 5/5] END ..................n_estimators=50;, score=-0.553 total time=   1.7s\n",
      "[CV 1/5] END .................n_estimators=100;, score=-0.554 total time=   3.5s\n",
      "[CV 2/5] END .................n_estimators=100;, score=-0.555 total time=   3.4s\n",
      "[CV 3/5] END .................n_estimators=100;, score=-0.565 total time=   3.5s\n",
      "[CV 4/5] END .................n_estimators=100;, score=-0.562 total time=   3.5s\n",
      "[CV 5/5] END .................n_estimators=100;, score=-0.553 total time=   3.5s\n"
     ]
    },
    {
     "data": {
      "text/html": [
       "<style>#sk-container-id-2 {color: black;background-color: white;}#sk-container-id-2 pre{padding: 0;}#sk-container-id-2 div.sk-toggleable {background-color: white;}#sk-container-id-2 label.sk-toggleable__label {cursor: pointer;display: block;width: 100%;margin-bottom: 0;padding: 0.3em;box-sizing: border-box;text-align: center;}#sk-container-id-2 label.sk-toggleable__label-arrow:before {content: \"▸\";float: left;margin-right: 0.25em;color: #696969;}#sk-container-id-2 label.sk-toggleable__label-arrow:hover:before {color: black;}#sk-container-id-2 div.sk-estimator:hover label.sk-toggleable__label-arrow:before {color: black;}#sk-container-id-2 div.sk-toggleable__content {max-height: 0;max-width: 0;overflow: hidden;text-align: left;background-color: #f0f8ff;}#sk-container-id-2 div.sk-toggleable__content pre {margin: 0.2em;color: black;border-radius: 0.25em;background-color: #f0f8ff;}#sk-container-id-2 input.sk-toggleable__control:checked~div.sk-toggleable__content {max-height: 200px;max-width: 100%;overflow: auto;}#sk-container-id-2 input.sk-toggleable__control:checked~label.sk-toggleable__label-arrow:before {content: \"▾\";}#sk-container-id-2 div.sk-estimator input.sk-toggleable__control:checked~label.sk-toggleable__label {background-color: #d4ebff;}#sk-container-id-2 div.sk-label input.sk-toggleable__control:checked~label.sk-toggleable__label {background-color: #d4ebff;}#sk-container-id-2 input.sk-hidden--visually {border: 0;clip: rect(1px 1px 1px 1px);clip: rect(1px, 1px, 1px, 1px);height: 1px;margin: -1px;overflow: hidden;padding: 0;position: absolute;width: 1px;}#sk-container-id-2 div.sk-estimator {font-family: monospace;background-color: #f0f8ff;border: 1px dotted black;border-radius: 0.25em;box-sizing: border-box;margin-bottom: 0.5em;}#sk-container-id-2 div.sk-estimator:hover {background-color: #d4ebff;}#sk-container-id-2 div.sk-parallel-item::after {content: \"\";width: 100%;border-bottom: 1px solid gray;flex-grow: 1;}#sk-container-id-2 div.sk-label:hover label.sk-toggleable__label {background-color: #d4ebff;}#sk-container-id-2 div.sk-serial::before {content: \"\";position: absolute;border-left: 1px solid gray;box-sizing: border-box;top: 0;bottom: 0;left: 50%;z-index: 0;}#sk-container-id-2 div.sk-serial {display: flex;flex-direction: column;align-items: center;background-color: white;padding-right: 0.2em;padding-left: 0.2em;position: relative;}#sk-container-id-2 div.sk-item {position: relative;z-index: 1;}#sk-container-id-2 div.sk-parallel {display: flex;align-items: stretch;justify-content: center;background-color: white;position: relative;}#sk-container-id-2 div.sk-item::before, #sk-container-id-2 div.sk-parallel-item::before {content: \"\";position: absolute;border-left: 1px solid gray;box-sizing: border-box;top: 0;bottom: 0;left: 50%;z-index: -1;}#sk-container-id-2 div.sk-parallel-item {display: flex;flex-direction: column;z-index: 1;position: relative;background-color: white;}#sk-container-id-2 div.sk-parallel-item:first-child::after {align-self: flex-end;width: 50%;}#sk-container-id-2 div.sk-parallel-item:last-child::after {align-self: flex-start;width: 50%;}#sk-container-id-2 div.sk-parallel-item:only-child::after {width: 0;}#sk-container-id-2 div.sk-dashed-wrapped {border: 1px dashed gray;margin: 0 0.4em 0.5em 0.4em;box-sizing: border-box;padding-bottom: 0.4em;background-color: white;}#sk-container-id-2 div.sk-label label {font-family: monospace;font-weight: bold;display: inline-block;line-height: 1.2em;}#sk-container-id-2 div.sk-label-container {text-align: center;}#sk-container-id-2 div.sk-container {/* jupyter's `normalize.less` sets `[hidden] { display: none; }` but bootstrap.min.css set `[hidden] { display: none !important; }` so we also need the `!important` here to be able to override the default hidden behavior on the sphinx rendered scikit-learn.org. See: https://github.com/scikit-learn/scikit-learn/issues/21755 */display: inline-block !important;position: relative;}#sk-container-id-2 div.sk-text-repr-fallback {display: none;}</style><div id=\"sk-container-id-2\" class=\"sk-top-container\"><div class=\"sk-text-repr-fallback\"><pre>GridSearchCV(estimator=RandomForestRegressor(),\n",
       "             param_grid={&#x27;n_estimators&#x27;: [25, 50, 100]},\n",
       "             scoring=&#x27;neg_root_mean_squared_error&#x27;, verbose=3)</pre><b>In a Jupyter environment, please rerun this cell to show the HTML representation or trust the notebook. <br />On GitHub, the HTML representation is unable to render, please try loading this page with nbviewer.org.</b></div><div class=\"sk-container\" hidden><div class=\"sk-item sk-dashed-wrapped\"><div class=\"sk-label-container\"><div class=\"sk-label sk-toggleable\"><input class=\"sk-toggleable__control sk-hidden--visually\" id=\"sk-estimator-id-4\" type=\"checkbox\" ><label for=\"sk-estimator-id-4\" class=\"sk-toggleable__label sk-toggleable__label-arrow\">GridSearchCV</label><div class=\"sk-toggleable__content\"><pre>GridSearchCV(estimator=RandomForestRegressor(),\n",
       "             param_grid={&#x27;n_estimators&#x27;: [25, 50, 100]},\n",
       "             scoring=&#x27;neg_root_mean_squared_error&#x27;, verbose=3)</pre></div></div></div><div class=\"sk-parallel\"><div class=\"sk-parallel-item\"><div class=\"sk-item\"><div class=\"sk-label-container\"><div class=\"sk-label sk-toggleable\"><input class=\"sk-toggleable__control sk-hidden--visually\" id=\"sk-estimator-id-5\" type=\"checkbox\" ><label for=\"sk-estimator-id-5\" class=\"sk-toggleable__label sk-toggleable__label-arrow\">estimator: RandomForestRegressor</label><div class=\"sk-toggleable__content\"><pre>RandomForestRegressor()</pre></div></div></div><div class=\"sk-serial\"><div class=\"sk-item\"><div class=\"sk-estimator sk-toggleable\"><input class=\"sk-toggleable__control sk-hidden--visually\" id=\"sk-estimator-id-6\" type=\"checkbox\" ><label for=\"sk-estimator-id-6\" class=\"sk-toggleable__label sk-toggleable__label-arrow\">RandomForestRegressor</label><div class=\"sk-toggleable__content\"><pre>RandomForestRegressor()</pre></div></div></div></div></div></div></div></div></div></div>"
      ],
      "text/plain": [
       "GridSearchCV(estimator=RandomForestRegressor(),\n",
       "             param_grid={'n_estimators': [25, 50, 100]},\n",
       "             scoring='neg_root_mean_squared_error', verbose=3)"
      ]
     },
     "execution_count": 9,
     "metadata": {},
     "output_type": "execute_result"
    }
   ],
   "source": [
    "rf_param_c={'n_estimators': [25,50,100],},\n",
    "rf_param_r={'n_estimators': [25,50,100],}\n",
    "rfc= GridSearchCV(RandomForestClassifier(), param_grid=rf_param_c,  scoring = 'neg_root_mean_squared_error', verbose=3)\n",
    "rfr= GridSearchCV(RandomForestRegressor(), param_grid=rf_param_r, scoring = 'neg_root_mean_squared_error', verbose=3)\n",
    "rfc.fit(X,Y)\n",
    "rfr.fit(X,Y)"
   ]
  },
  {
   "cell_type": "code",
   "execution_count": 18,
   "id": "3526ee8b-facb-494e-95c5-9991b4b39853",
   "metadata": {},
   "outputs": [
    {
     "name": "stdout",
     "output_type": "stream",
     "text": [
      "Getting predictions for fold k = 1\n",
      "Predicting M_hat\n",
      "Getting predictions for subfold j = 1\n",
      "Predicting M_hat\n",
      "Predicting a_hat\n",
      "Getting predictions for subfold j = 2\n",
      "Predicting M_hat\n",
      "Predicting a_hat\n",
      "Getting predictions for subfold j = 3\n",
      "Predicting M_hat\n",
      "Predicting a_hat\n",
      "Getting predictions for subfold j = 4\n",
      "Predicting M_hat\n",
      "Predicting a_hat\n",
      "Getting predictions for subfold j = 5\n",
      "Predicting M_hat\n",
      "Predicting a_hat\n",
      "Predicting t_hat\n",
      "Getting predictions for fold k = 2\n",
      "Predicting M_hat\n",
      "Getting predictions for subfold j = 1\n",
      "Predicting M_hat\n",
      "Predicting a_hat\n",
      "Getting predictions for subfold j = 2\n",
      "Predicting M_hat\n",
      "Predicting a_hat\n",
      "Getting predictions for subfold j = 3\n",
      "Predicting M_hat\n",
      "Predicting a_hat\n",
      "Getting predictions for subfold j = 4\n",
      "Predicting M_hat\n",
      "Predicting a_hat\n",
      "Getting predictions for subfold j = 5\n",
      "Predicting M_hat\n",
      "Predicting a_hat\n",
      "Predicting t_hat\n",
      "Getting predictions for fold k = 3\n",
      "Predicting M_hat\n",
      "Getting predictions for subfold j = 1\n",
      "Predicting M_hat\n",
      "Predicting a_hat\n",
      "Getting predictions for subfold j = 2\n",
      "Predicting M_hat\n",
      "Predicting a_hat\n",
      "Getting predictions for subfold j = 3\n",
      "Predicting M_hat\n",
      "Predicting a_hat\n",
      "Getting predictions for subfold j = 4\n",
      "Predicting M_hat\n",
      "Predicting a_hat\n",
      "Getting predictions for subfold j = 5\n",
      "Predicting M_hat\n",
      "Predicting a_hat\n",
      "Predicting t_hat\n",
      "Getting predictions for fold k = 4\n",
      "Predicting M_hat\n",
      "Getting predictions for subfold j = 1\n",
      "Predicting M_hat\n",
      "Predicting a_hat\n",
      "Getting predictions for subfold j = 2\n",
      "Predicting M_hat\n",
      "Predicting a_hat\n",
      "Getting predictions for subfold j = 3\n",
      "Predicting M_hat\n",
      "Predicting a_hat\n",
      "Getting predictions for subfold j = 4\n",
      "Predicting M_hat\n",
      "Predicting a_hat\n",
      "Getting predictions for subfold j = 5\n",
      "Predicting M_hat\n",
      "Predicting a_hat\n",
      "Predicting t_hat\n",
      "Getting predictions for fold k = 5\n",
      "Predicting M_hat\n",
      "Getting predictions for subfold j = 1\n",
      "Predicting M_hat\n",
      "Predicting a_hat\n",
      "Getting predictions for subfold j = 2\n",
      "Predicting M_hat\n",
      "Predicting a_hat\n",
      "Getting predictions for subfold j = 3\n",
      "Predicting M_hat\n",
      "Predicting a_hat\n",
      "Getting predictions for subfold j = 4\n",
      "Predicting M_hat\n",
      "Predicting a_hat\n",
      "Getting predictions for subfold j = 5\n",
      "Predicting M_hat\n",
      "Predicting a_hat\n",
      "Predicting t_hat\n",
      "beta hat -4.408286148761452\n",
      "p value 0.0\n",
      "ci (-4.40911855649713, -4.407453741025775)\n",
      "lb -1.5781046168531991\n",
      "ub -1.5464731228974578\n"
     ]
    },
    {
     "name": "stderr",
     "output_type": "stream",
     "text": [
      "/Users/cheapp-pc01-04/anaconda3/envs/parttime/lib/python3.11/site-packages/pandas/core/arraylike.py:399: RuntimeWarning: overflow encountered in exp\n",
      "  result = getattr(ufunc, method)(*inputs, **kwargs)\n"
     ]
    }
   ],
   "source": [
    "result_rf = DML(\n",
    "        Y=Y,\n",
    "        A=A,\n",
    "        X=X,classifier=RandomForestClassifier(**rfc.best_params_), regressor=RandomForestRegressor(**rfr.best_params_),\n",
    "    random_seed=0,\n",
    "    k_folds=K,    \n",
    "\n",
    ")      \n",
    "result_rf.train()\n",
    "\n",
    "lb_rf, ub_rf, mean_rf, sd_rf = result_rf.significance_testing()\n",
    "print('beta hat', result_rf.beta_hat)\n",
    "print('p value', result_rf.p_value)\n",
    "print('ci', result_rf.ci)\n",
    "print('lb', lb_rf)\n",
    "print('ub', ub_rf)\n"
   ]
  },
  {
   "cell_type": "code",
   "execution_count": 11,
   "id": "8b30def3-c7ed-4bf7-a859-00a969d01a27",
   "metadata": {},
   "outputs": [
    {
     "data": {
      "text/plain": [
       "{'n_estimators': 50}"
      ]
     },
     "execution_count": 11,
     "metadata": {},
     "output_type": "execute_result"
    }
   ],
   "source": [
    "rfc.best_params_"
   ]
  },
  {
   "cell_type": "code",
   "execution_count": null,
   "id": "a06921dc-e8a6-44c2-8526-23c3175b12b2",
   "metadata": {},
   "outputs": [],
   "source": []
  },
  {
   "cell_type": "code",
   "execution_count": 12,
   "id": "4384b32f-4e7d-434a-a375-67dfa6479158",
   "metadata": {},
   "outputs": [
    {
     "name": "stdout",
     "output_type": "stream",
     "text": [
      "Fitting 5 folds for each of 3 candidates, totalling 15 fits\n",
      "[CV 1/5] END .............C=0.5, kernel=linear;, score=-0.587 total time=   1.4s\n",
      "[CV 2/5] END .............C=0.5, kernel=linear;, score=-0.582 total time=   1.4s\n",
      "[CV 3/5] END .............C=0.5, kernel=linear;, score=-0.593 total time=   1.3s\n",
      "[CV 4/5] END .............C=0.5, kernel=linear;, score=-0.596 total time=   1.3s\n",
      "[CV 5/5] END .............C=0.5, kernel=linear;, score=-0.588 total time=   1.4s\n",
      "[CV 1/5] END ...............C=1, kernel=linear;, score=-0.587 total time=   1.5s\n",
      "[CV 2/5] END ...............C=1, kernel=linear;, score=-0.583 total time=   1.6s\n",
      "[CV 3/5] END ...............C=1, kernel=linear;, score=-0.594 total time=   1.6s\n",
      "[CV 4/5] END ...............C=1, kernel=linear;, score=-0.596 total time=   1.6s\n",
      "[CV 5/5] END ...............C=1, kernel=linear;, score=-0.587 total time=   1.6s\n",
      "[CV 1/5] END .............C=1.5, kernel=linear;, score=-0.587 total time=   1.7s\n",
      "[CV 2/5] END .............C=1.5, kernel=linear;, score=-0.583 total time=   1.8s\n",
      "[CV 3/5] END .............C=1.5, kernel=linear;, score=-0.593 total time=   1.7s\n",
      "[CV 4/5] END .............C=1.5, kernel=linear;, score=-0.597 total time=   1.9s\n",
      "[CV 5/5] END .............C=1.5, kernel=linear;, score=-0.588 total time=   1.7s\n",
      "Fitting 5 folds for each of 3 candidates, totalling 15 fits\n",
      "[CV 1/5] END .............C=0.5, kernel=linear;, score=-0.487 total time=   2.4s\n",
      "[CV 2/5] END .............C=0.5, kernel=linear;, score=-0.490 total time=   2.3s\n",
      "[CV 3/5] END .............C=0.5, kernel=linear;, score=-0.490 total time=   2.4s\n",
      "[CV 4/5] END .............C=0.5, kernel=linear;, score=-0.500 total time=   2.4s\n",
      "[CV 5/5] END .............C=0.5, kernel=linear;, score=-0.496 total time=   2.4s\n",
      "[CV 1/5] END ...............C=1, kernel=linear;, score=-0.487 total time=   3.3s\n",
      "[CV 2/5] END ...............C=1, kernel=linear;, score=-0.490 total time=   3.1s\n",
      "[CV 3/5] END ...............C=1, kernel=linear;, score=-0.490 total time=   3.2s\n",
      "[CV 4/5] END ...............C=1, kernel=linear;, score=-0.500 total time=   3.4s\n",
      "[CV 5/5] END ...............C=1, kernel=linear;, score=-0.496 total time=   3.3s\n",
      "[CV 1/5] END .............C=1.5, kernel=linear;, score=-0.487 total time=   4.1s\n",
      "[CV 2/5] END .............C=1.5, kernel=linear;, score=-0.490 total time=   4.0s\n",
      "[CV 3/5] END .............C=1.5, kernel=linear;, score=-0.490 total time=   4.2s\n",
      "[CV 4/5] END .............C=1.5, kernel=linear;, score=-0.500 total time=   4.3s\n",
      "[CV 5/5] END .............C=1.5, kernel=linear;, score=-0.496 total time=   4.1s\n"
     ]
    },
    {
     "data": {
      "text/html": [
       "<style>#sk-container-id-3 {color: black;background-color: white;}#sk-container-id-3 pre{padding: 0;}#sk-container-id-3 div.sk-toggleable {background-color: white;}#sk-container-id-3 label.sk-toggleable__label {cursor: pointer;display: block;width: 100%;margin-bottom: 0;padding: 0.3em;box-sizing: border-box;text-align: center;}#sk-container-id-3 label.sk-toggleable__label-arrow:before {content: \"▸\";float: left;margin-right: 0.25em;color: #696969;}#sk-container-id-3 label.sk-toggleable__label-arrow:hover:before {color: black;}#sk-container-id-3 div.sk-estimator:hover label.sk-toggleable__label-arrow:before {color: black;}#sk-container-id-3 div.sk-toggleable__content {max-height: 0;max-width: 0;overflow: hidden;text-align: left;background-color: #f0f8ff;}#sk-container-id-3 div.sk-toggleable__content pre {margin: 0.2em;color: black;border-radius: 0.25em;background-color: #f0f8ff;}#sk-container-id-3 input.sk-toggleable__control:checked~div.sk-toggleable__content {max-height: 200px;max-width: 100%;overflow: auto;}#sk-container-id-3 input.sk-toggleable__control:checked~label.sk-toggleable__label-arrow:before {content: \"▾\";}#sk-container-id-3 div.sk-estimator input.sk-toggleable__control:checked~label.sk-toggleable__label {background-color: #d4ebff;}#sk-container-id-3 div.sk-label input.sk-toggleable__control:checked~label.sk-toggleable__label {background-color: #d4ebff;}#sk-container-id-3 input.sk-hidden--visually {border: 0;clip: rect(1px 1px 1px 1px);clip: rect(1px, 1px, 1px, 1px);height: 1px;margin: -1px;overflow: hidden;padding: 0;position: absolute;width: 1px;}#sk-container-id-3 div.sk-estimator {font-family: monospace;background-color: #f0f8ff;border: 1px dotted black;border-radius: 0.25em;box-sizing: border-box;margin-bottom: 0.5em;}#sk-container-id-3 div.sk-estimator:hover {background-color: #d4ebff;}#sk-container-id-3 div.sk-parallel-item::after {content: \"\";width: 100%;border-bottom: 1px solid gray;flex-grow: 1;}#sk-container-id-3 div.sk-label:hover label.sk-toggleable__label {background-color: #d4ebff;}#sk-container-id-3 div.sk-serial::before {content: \"\";position: absolute;border-left: 1px solid gray;box-sizing: border-box;top: 0;bottom: 0;left: 50%;z-index: 0;}#sk-container-id-3 div.sk-serial {display: flex;flex-direction: column;align-items: center;background-color: white;padding-right: 0.2em;padding-left: 0.2em;position: relative;}#sk-container-id-3 div.sk-item {position: relative;z-index: 1;}#sk-container-id-3 div.sk-parallel {display: flex;align-items: stretch;justify-content: center;background-color: white;position: relative;}#sk-container-id-3 div.sk-item::before, #sk-container-id-3 div.sk-parallel-item::before {content: \"\";position: absolute;border-left: 1px solid gray;box-sizing: border-box;top: 0;bottom: 0;left: 50%;z-index: -1;}#sk-container-id-3 div.sk-parallel-item {display: flex;flex-direction: column;z-index: 1;position: relative;background-color: white;}#sk-container-id-3 div.sk-parallel-item:first-child::after {align-self: flex-end;width: 50%;}#sk-container-id-3 div.sk-parallel-item:last-child::after {align-self: flex-start;width: 50%;}#sk-container-id-3 div.sk-parallel-item:only-child::after {width: 0;}#sk-container-id-3 div.sk-dashed-wrapped {border: 1px dashed gray;margin: 0 0.4em 0.5em 0.4em;box-sizing: border-box;padding-bottom: 0.4em;background-color: white;}#sk-container-id-3 div.sk-label label {font-family: monospace;font-weight: bold;display: inline-block;line-height: 1.2em;}#sk-container-id-3 div.sk-label-container {text-align: center;}#sk-container-id-3 div.sk-container {/* jupyter's `normalize.less` sets `[hidden] { display: none; }` but bootstrap.min.css set `[hidden] { display: none !important; }` so we also need the `!important` here to be able to override the default hidden behavior on the sphinx rendered scikit-learn.org. See: https://github.com/scikit-learn/scikit-learn/issues/21755 */display: inline-block !important;position: relative;}#sk-container-id-3 div.sk-text-repr-fallback {display: none;}</style><div id=\"sk-container-id-3\" class=\"sk-top-container\"><div class=\"sk-text-repr-fallback\"><pre>GridSearchCV(estimator=SVR(),\n",
       "             param_grid={&#x27;C&#x27;: [0.5, 1, 1.5], &#x27;kernel&#x27;: [&#x27;linear&#x27;]},\n",
       "             scoring=&#x27;neg_root_mean_squared_error&#x27;, verbose=3)</pre><b>In a Jupyter environment, please rerun this cell to show the HTML representation or trust the notebook. <br />On GitHub, the HTML representation is unable to render, please try loading this page with nbviewer.org.</b></div><div class=\"sk-container\" hidden><div class=\"sk-item sk-dashed-wrapped\"><div class=\"sk-label-container\"><div class=\"sk-label sk-toggleable\"><input class=\"sk-toggleable__control sk-hidden--visually\" id=\"sk-estimator-id-7\" type=\"checkbox\" ><label for=\"sk-estimator-id-7\" class=\"sk-toggleable__label sk-toggleable__label-arrow\">GridSearchCV</label><div class=\"sk-toggleable__content\"><pre>GridSearchCV(estimator=SVR(),\n",
       "             param_grid={&#x27;C&#x27;: [0.5, 1, 1.5], &#x27;kernel&#x27;: [&#x27;linear&#x27;]},\n",
       "             scoring=&#x27;neg_root_mean_squared_error&#x27;, verbose=3)</pre></div></div></div><div class=\"sk-parallel\"><div class=\"sk-parallel-item\"><div class=\"sk-item\"><div class=\"sk-label-container\"><div class=\"sk-label sk-toggleable\"><input class=\"sk-toggleable__control sk-hidden--visually\" id=\"sk-estimator-id-8\" type=\"checkbox\" ><label for=\"sk-estimator-id-8\" class=\"sk-toggleable__label sk-toggleable__label-arrow\">estimator: SVR</label><div class=\"sk-toggleable__content\"><pre>SVR()</pre></div></div></div><div class=\"sk-serial\"><div class=\"sk-item\"><div class=\"sk-estimator sk-toggleable\"><input class=\"sk-toggleable__control sk-hidden--visually\" id=\"sk-estimator-id-9\" type=\"checkbox\" ><label for=\"sk-estimator-id-9\" class=\"sk-toggleable__label sk-toggleable__label-arrow\">SVR</label><div class=\"sk-toggleable__content\"><pre>SVR()</pre></div></div></div></div></div></div></div></div></div></div>"
      ],
      "text/plain": [
       "GridSearchCV(estimator=SVR(),\n",
       "             param_grid={'C': [0.5, 1, 1.5], 'kernel': ['linear']},\n",
       "             scoring='neg_root_mean_squared_error', verbose=3)"
      ]
     },
     "execution_count": 12,
     "metadata": {},
     "output_type": "execute_result"
    }
   ],
   "source": [
    "sv_param_c={'C':[0.5,1,1.5],'kernel':['linear']}\n",
    "sv_param_r={'C':[0.5,1,1.5],'kernel':['linear']}\n",
    "svc= GridSearchCV(SVC(), param_grid=sv_param_c,  scoring = 'neg_root_mean_squared_error', verbose=3)\n",
    "svr= GridSearchCV(SVR(), param_grid=sv_param_r, scoring = 'neg_root_mean_squared_error', verbose=3)\n",
    "svc.fit(X,Y)\n",
    "svr.fit(X,Y)"
   ]
  },
  {
   "cell_type": "code",
   "execution_count": 13,
   "id": "61982fba-1b27-4ee6-b38f-f6c4f2558617",
   "metadata": {},
   "outputs": [
    {
     "data": {
      "text/plain": [
       "{'C': 0.5, 'kernel': 'linear'}"
      ]
     },
     "execution_count": 13,
     "metadata": {},
     "output_type": "execute_result"
    }
   ],
   "source": [
    "svr.best_params_"
   ]
  },
  {
   "cell_type": "code",
   "execution_count": 14,
   "id": "6d3ce940-e6aa-46ad-ae45-86b9e8ef75da",
   "metadata": {},
   "outputs": [],
   "source": [
    "a=svc.best_params_\n",
    "a['probability']=True"
   ]
  },
  {
   "cell_type": "code",
   "execution_count": 15,
   "id": "24c17a74-afde-43fd-b9ea-49038d3f10a1",
   "metadata": {},
   "outputs": [
    {
     "name": "stdout",
     "output_type": "stream",
     "text": [
      "Getting predictions for fold k = 1\n",
      "Predicting M_hat\n",
      "Getting predictions for subfold j = 1\n",
      "Predicting M_hat\n",
      "Predicting a_hat\n",
      "Getting predictions for subfold j = 2\n",
      "Predicting M_hat\n",
      "Predicting a_hat\n",
      "Getting predictions for subfold j = 3\n",
      "Predicting M_hat\n",
      "Predicting a_hat\n",
      "Getting predictions for subfold j = 4\n",
      "Predicting M_hat\n",
      "Predicting a_hat\n",
      "Getting predictions for subfold j = 5\n",
      "Predicting M_hat\n",
      "Predicting a_hat\n",
      "Predicting t_hat\n",
      "Getting predictions for fold k = 2\n",
      "Predicting M_hat\n",
      "Getting predictions for subfold j = 1\n",
      "Predicting M_hat\n",
      "Predicting a_hat\n",
      "Getting predictions for subfold j = 2\n",
      "Predicting M_hat\n",
      "Predicting a_hat\n",
      "Getting predictions for subfold j = 3\n",
      "Predicting M_hat\n",
      "Predicting a_hat\n",
      "Getting predictions for subfold j = 4\n",
      "Predicting M_hat\n",
      "Predicting a_hat\n",
      "Getting predictions for subfold j = 5\n",
      "Predicting M_hat\n",
      "Predicting a_hat\n",
      "Predicting t_hat\n",
      "Getting predictions for fold k = 3\n",
      "Predicting M_hat\n",
      "Getting predictions for subfold j = 1\n",
      "Predicting M_hat\n",
      "Predicting a_hat\n",
      "Getting predictions for subfold j = 2\n",
      "Predicting M_hat\n",
      "Predicting a_hat\n",
      "Getting predictions for subfold j = 3\n",
      "Predicting M_hat\n",
      "Predicting a_hat\n",
      "Getting predictions for subfold j = 4\n",
      "Predicting M_hat\n",
      "Predicting a_hat\n",
      "Getting predictions for subfold j = 5\n",
      "Predicting M_hat\n",
      "Predicting a_hat\n",
      "Predicting t_hat\n",
      "Getting predictions for fold k = 4\n",
      "Predicting M_hat\n",
      "Getting predictions for subfold j = 1\n",
      "Predicting M_hat\n",
      "Predicting a_hat\n",
      "Getting predictions for subfold j = 2\n",
      "Predicting M_hat\n",
      "Predicting a_hat\n",
      "Getting predictions for subfold j = 3\n",
      "Predicting M_hat\n",
      "Predicting a_hat\n",
      "Getting predictions for subfold j = 4\n",
      "Predicting M_hat\n",
      "Predicting a_hat\n",
      "Getting predictions for subfold j = 5\n",
      "Predicting M_hat\n",
      "Predicting a_hat\n",
      "Predicting t_hat\n",
      "Getting predictions for fold k = 5\n",
      "Predicting M_hat\n",
      "Getting predictions for subfold j = 1\n",
      "Predicting M_hat\n",
      "Predicting a_hat\n",
      "Getting predictions for subfold j = 2\n",
      "Predicting M_hat\n",
      "Predicting a_hat\n",
      "Getting predictions for subfold j = 3\n",
      "Predicting M_hat\n",
      "Predicting a_hat\n",
      "Getting predictions for subfold j = 4\n",
      "Predicting M_hat\n",
      "Predicting a_hat\n",
      "Getting predictions for subfold j = 5\n",
      "Predicting M_hat\n",
      "Predicting a_hat\n",
      "Predicting t_hat\n"
     ]
    },
    {
     "name": "stderr",
     "output_type": "stream",
     "text": [
      "/Users/cheapp-pc01-04/anaconda3/envs/parttime/lib/python3.11/site-packages/pandas/core/arraylike.py:399: RuntimeWarning: overflow encountered in exp\n",
      "  result = getattr(ufunc, method)(*inputs, **kwargs)\n"
     ]
    },
    {
     "name": "stdout",
     "output_type": "stream",
     "text": [
      "beta hat -0.07473701823283739\n",
      "p value 0.785\n",
      "ci (-0.0893039575665344, -0.060170078899140375)\n",
      "lb -0.5327481841680589\n",
      "ub 0.5578652918848286\n"
     ]
    }
   ],
   "source": [
    "\n",
    "\n",
    "result_sv = DML(\n",
    "        Y=Y,\n",
    "        A=A,\n",
    "        X=X,classifier=SVC(**a), regressor=SVR(**svr.best_params_),random_seed=0, k_folds=K,\n",
    "        # M_hat_classifier=SVC(probability=True,kernel='linear'),\n",
    "        # a_hat_classifier=SVC(probability=True,kernel='linear'),)      \n",
    ")\n",
    "\n",
    "result_sv.train()\n",
    "\n",
    "lb_sv, ub_sv, mean_sv, sd_sv = result_sv.significance_testing()\n",
    "print('beta hat', result_sv.beta_hat)\n",
    "print('p value', result_sv.p_value)\n",
    "print('ci', result_sv.ci)\n",
    "print('lb', lb_sv)\n",
    "print('ub', ub_sv)"
   ]
  },
  {
   "cell_type": "code",
   "execution_count": 16,
   "id": "6b580ad7-0069-4d25-98e2-1f9caf1d7ffa",
   "metadata": {},
   "outputs": [
    {
     "ename": "NameError",
     "evalue": "name 'X_rs' is not defined",
     "output_type": "error",
     "traceback": [
      "\u001b[0;31m---------------------------------------------------------------------------\u001b[0m",
      "\u001b[0;31mNameError\u001b[0m                                 Traceback (most recent call last)",
      "Cell \u001b[0;32mIn[16], line 2\u001b[0m\n\u001b[1;32m      1\u001b[0m model_nnr \u001b[38;5;241m=\u001b[39m keras\u001b[38;5;241m.\u001b[39mSequential([ \n\u001b[0;32m----> 2\u001b[0m     keras\u001b[38;5;241m.\u001b[39mlayers\u001b[38;5;241m.\u001b[39mDense(\u001b[38;5;241m5\u001b[39m, input_shape\u001b[38;5;241m=\u001b[39m(\u001b[43mX_rs\u001b[49m\u001b[38;5;241m.\u001b[39mshape[\u001b[38;5;241m1\u001b[39m],), \n\u001b[1;32m      3\u001b[0m                        activation\u001b[38;5;241m=\u001b[39m\u001b[38;5;124m'\u001b[39m\u001b[38;5;124msigmoid\u001b[39m\u001b[38;5;124m'\u001b[39m),keras\u001b[38;5;241m.\u001b[39mlayers\u001b[38;5;241m.\u001b[39mDense(\u001b[38;5;241m5\u001b[39m, activation\u001b[38;5;241m=\u001b[39m\u001b[38;5;124m'\u001b[39m\u001b[38;5;124mrelu\u001b[39m\u001b[38;5;124m'\u001b[39m),keras\u001b[38;5;241m.\u001b[39mlayers\u001b[38;5;241m.\u001b[39mDense(\u001b[38;5;241m1\u001b[39m)]) \n\u001b[1;32m      4\u001b[0m model_nnr\u001b[38;5;241m.\u001b[39mcompile( \n\u001b[1;32m      5\u001b[0m     optimizer\u001b[38;5;241m=\u001b[39m\u001b[38;5;124m'\u001b[39m\u001b[38;5;124madam\u001b[39m\u001b[38;5;124m'\u001b[39m, \n\u001b[1;32m      6\u001b[0m     loss\u001b[38;5;241m=\u001b[39m\u001b[38;5;124m'\u001b[39m\u001b[38;5;124mmean_squared_error\u001b[39m\u001b[38;5;124m'\u001b[39m, \n\u001b[1;32m      7\u001b[0m     metrics\u001b[38;5;241m=\u001b[39m[\u001b[38;5;124m'\u001b[39m\u001b[38;5;124maccuracy\u001b[39m\u001b[38;5;124m'\u001b[39m]) \n\u001b[1;32m      8\u001b[0m model_nnc \u001b[38;5;241m=\u001b[39m keras\u001b[38;5;241m.\u001b[39mSequential([ \n\u001b[1;32m      9\u001b[0m     keras\u001b[38;5;241m.\u001b[39mlayers\u001b[38;5;241m.\u001b[39mDense(\u001b[38;5;241m5\u001b[39m, input_shape\u001b[38;5;241m=\u001b[39m(X_rs\u001b[38;5;241m.\u001b[39mshape[\u001b[38;5;241m1\u001b[39m],), \n\u001b[1;32m     10\u001b[0m                        activation\u001b[38;5;241m=\u001b[39m\u001b[38;5;124m'\u001b[39m\u001b[38;5;124mrelu\u001b[39m\u001b[38;5;124m'\u001b[39m),keras\u001b[38;5;241m.\u001b[39mlayers\u001b[38;5;241m.\u001b[39mDense(\u001b[38;5;241m5\u001b[39m, activation\u001b[38;5;241m=\u001b[39m\u001b[38;5;124m'\u001b[39m\u001b[38;5;124mrelu\u001b[39m\u001b[38;5;124m'\u001b[39m),keras\u001b[38;5;241m.\u001b[39mlayers\u001b[38;5;241m.\u001b[39mDense(units\u001b[38;5;241m=\u001b[39m\u001b[38;5;241m1\u001b[39m, activation\u001b[38;5;241m=\u001b[39m\u001b[38;5;124m'\u001b[39m\u001b[38;5;124msigmoid\u001b[39m\u001b[38;5;124m'\u001b[39m)\n\u001b[1;32m     11\u001b[0m ]) \n",
      "\u001b[0;31mNameError\u001b[0m: name 'X_rs' is not defined"
     ]
    }
   ],
   "source": [
    "\n",
    "\n",
    "model_nnr = keras.Sequential([ \n",
    "    keras.layers.Dense(5, input_shape=(X_rs.shape[1],), \n",
    "                       activation='sigmoid'),keras.layers.Dense(5, activation='relu'),keras.layers.Dense(1)]) \n",
    "model_nnr.compile( \n",
    "    optimizer='adam', \n",
    "    loss='mean_squared_error', \n",
    "    metrics=['accuracy']) \n",
    "model_nnc = keras.Sequential([ \n",
    "    keras.layers.Dense(5, input_shape=(X_rs.shape[1],), \n",
    "                       activation='relu'),keras.layers.Dense(5, activation='relu'),keras.layers.Dense(units=1, activation='sigmoid')\n",
    "]) \n",
    "model_nnc.compile(optimizer='adam', loss='binary_crossentropy', metrics=['accuracy']) \n",
    "result_nn = DML(\n",
    "        Y=y_rs,\n",
    "        A=A_rs,\n",
    "        X=X_rs,classifier=model_nnc , regressor=model_nnr,random_seed=0, k_folds=K)      \n",
    "\n",
    "\n",
    "result_nn.train()\n",
    "\n",
    "lb_nn, ub_nn, mean_nn, sd_nn = result_sv.significance_testing()\n",
    "print('beta hat', result_nn.beta_hat)\n",
    "print('p value', result_nn.p_value)\n",
    "print('ci', result_nn.ci)\n",
    "print('lb', lb_nn)\n",
    "print('ub', ub_nn)"
   ]
  },
  {
   "cell_type": "markdown",
   "id": "11642866-14c6-4fca-b58a-8aa3385b72b7",
   "metadata": {},
   "source": [
    "for tensorflow<=2.5, predict_proba is  deprectaed and no longer in use"
   ]
  },
  {
   "cell_type": "code",
   "execution_count": 19,
   "id": "34001482-ad81-4aee-a54e-ac46331a9e39",
   "metadata": {},
   "outputs": [],
   "source": [
    "data = {'ML':['GB','RF','SVM'],'Beta':[result_gb.beta_hat,result_rf.beta_hat,result_sv.beta_hat],\n",
    "       'CI_LB':[result_gb.ci[0],result_rf.ci[0],result_sv.ci[0]], \n",
    "        \"CI_UB\":[result_gb.ci[1],result_rf.ci[1],result_sv.ci[1]],\n",
    "        \"p_val\":[result_gb.p_value,result_rf.p_value,result_sv.p_value]}\n",
    "                        "
   ]
  },
  {
   "cell_type": "code",
   "execution_count": 20,
   "id": "6d5d4d22-2c62-4f3b-a897-ba1cfc89a9aa",
   "metadata": {},
   "outputs": [
    {
     "data": {
      "text/html": [
       "<div>\n",
       "<style scoped>\n",
       "    .dataframe tbody tr th:only-of-type {\n",
       "        vertical-align: middle;\n",
       "    }\n",
       "\n",
       "    .dataframe tbody tr th {\n",
       "        vertical-align: top;\n",
       "    }\n",
       "\n",
       "    .dataframe thead th {\n",
       "        text-align: right;\n",
       "    }\n",
       "</style>\n",
       "<table border=\"1\" class=\"dataframe\">\n",
       "  <thead>\n",
       "    <tr style=\"text-align: right;\">\n",
       "      <th></th>\n",
       "      <th>ML</th>\n",
       "      <th>Beta</th>\n",
       "      <th>CI_LB</th>\n",
       "      <th>CI_UB</th>\n",
       "      <th>p_val</th>\n",
       "    </tr>\n",
       "  </thead>\n",
       "  <tbody>\n",
       "    <tr>\n",
       "      <th>0</th>\n",
       "      <td>GB</td>\n",
       "      <td>-0.162811</td>\n",
       "      <td>-0.185888</td>\n",
       "      <td>-0.139734</td>\n",
       "      <td>0.744898</td>\n",
       "    </tr>\n",
       "    <tr>\n",
       "      <th>1</th>\n",
       "      <td>RF</td>\n",
       "      <td>-4.408286</td>\n",
       "      <td>-4.409119</td>\n",
       "      <td>-4.407454</td>\n",
       "      <td>0.000000</td>\n",
       "    </tr>\n",
       "    <tr>\n",
       "      <th>2</th>\n",
       "      <td>SVM</td>\n",
       "      <td>-0.074737</td>\n",
       "      <td>-0.089304</td>\n",
       "      <td>-0.060170</td>\n",
       "      <td>0.785000</td>\n",
       "    </tr>\n",
       "  </tbody>\n",
       "</table>\n",
       "</div>"
      ],
      "text/plain": [
       "    ML      Beta     CI_LB     CI_UB     p_val\n",
       "0   GB -0.162811 -0.185888 -0.139734  0.744898\n",
       "1   RF -4.408286 -4.409119 -4.407454  0.000000\n",
       "2  SVM -0.074737 -0.089304 -0.060170  0.785000"
      ]
     },
     "execution_count": 20,
     "metadata": {},
     "output_type": "execute_result"
    }
   ],
   "source": [
    "data=pd.DataFrame(data)\n",
    "data"
   ]
  },
  {
   "cell_type": "code",
   "execution_count": null,
   "id": "bcc3dd19-97e8-4fe4-bea8-cea62a61c493",
   "metadata": {},
   "outputs": [],
   "source": []
  },
  {
   "cell_type": "code",
   "execution_count": null,
   "id": "0df37f5d-e711-4398-839e-90508e68b791",
   "metadata": {},
   "outputs": [],
   "source": []
  }
 ],
 "metadata": {
  "kernelspec": {
   "display_name": "Python 3 (ipykernel)",
   "language": "python",
   "name": "python3"
  },
  "language_info": {
   "codemirror_mode": {
    "name": "ipython",
    "version": 3
   },
   "file_extension": ".py",
   "mimetype": "text/x-python",
   "name": "python",
   "nbconvert_exporter": "python",
   "pygments_lexer": "ipython3",
   "version": "3.11.7"
  }
 },
 "nbformat": 4,
 "nbformat_minor": 5
}
